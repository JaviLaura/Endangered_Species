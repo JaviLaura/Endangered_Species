{
  "cells": [
    {
      "cell_type": "markdown",
      "metadata": {
        "id": "view-in-github",
        "colab_type": "text"
      },
      "source": [
        "<a href=\"https://colab.research.google.com/github/JaviLaura/Endangered_Species/blob/main/Endangered_Species.ipynb\" target=\"_parent\"><img src=\"https://colab.research.google.com/assets/colab-badge.svg\" alt=\"Open In Colab\"/></a>"
      ]
    },
    {
      "cell_type": "markdown",
      "metadata": {
        "id": "ZW2s_a31KfbO"
      },
      "source": [
        "#<img src=\"https://static.junilearning.com/images/juni_logo.png\" height=75 align=center hspace=\"5px\"> **DS5 Project 1: Endangered Species**"
      ]
    },
    {
      "cell_type": "markdown",
      "metadata": {
        "id": "lEJFiTidlYgC"
      },
      "source": [
        "The Red List of Threatened Species, founded in 1964, is the world's most comprehensive inventory of the global conservation status of biological species. It uses a set of criteria to evaluate the extinction risk of thousands of species and subspecies. With its strong scientific base, the IUCN Red List is recognized as the most authoritative guide to the status of biological diversity. IUCN has tasked you with vizualizing data from their API in order to better understand the current state of endangered species worldwide.\n",
        "\n",
        "<h3>Part 1</h3>\n",
        "\n",
        "Begin by creating a histogram of the count of endangered species per country. Then add this information into a DataFrame and analyze the summary statistics to describe the distribution of endangered species across countries. Specifically, do a few countries contain most of the endangered species, or is it distributed evenly? Why does the graph appear the way it does?\n",
        "\n",
        "API Source: https://apiv3.iucnredlist.org/api/v3/docs?ref=apilist.fun\n",
        "\n",
        "Juni API Access Token: `9bb4facb6d23f48efbf424bb05c0c1ef1cf6f468393bc745d42179ac4aca5fee`"
      ]
    },
    {
      "cell_type": "code",
      "execution_count": null,
      "metadata": {
        "id": "Jvirjy0OIkNu"
      },
      "outputs": [],
      "source": [
        "import seaborn as sns\n",
        "import pandas as pd\n",
        "import matplotlib.pyplot as plt\n",
        "import requests\n",
        "\n",
        "TOKEN = \"9bb4facb6d23f48efbf424bb05c0c1ef1cf6f468393bc745d42179ac4aca5fee\""
      ]
    },
    {
      "cell_type": "code",
      "execution_count": null,
      "metadata": {
        "colab": {
          "base_uri": "https://localhost:8080/"
        },
        "id": "L0zZRobIkvrh",
        "outputId": "a2fddcd0-244a-445b-aa20-9e2a18e24754"
      },
      "outputs": [
        {
          "name": "stdout",
          "output_type": "stream",
          "text": [
            "[{'isocode': 'UZ', 'country': 'Uzbekistan'}, {'isocode': 'QA', 'country': 'Qatar'}, {'isocode': 'SA', 'country': 'Saudi Arabia'}, {'isocode': 'AF', 'country': 'Afghanistan'}, {'isocode': 'LB', 'country': 'Lebanon'}, {'isocode': 'BH', 'country': 'Bahrain'}, {'isocode': 'CY', 'country': 'Cyprus'}, {'isocode': 'SY', 'country': 'Syrian Arab Republic'}, {'isocode': 'TJ', 'country': 'Tajikistan'}, {'isocode': 'TM', 'country': 'Turkmenistan'}, {'isocode': 'AE', 'country': 'United Arab Emirates'}, {'isocode': 'IR', 'country': 'Iran, Islamic Republic of'}, {'isocode': 'IQ', 'country': 'Iraq'}, {'isocode': 'OM', 'country': 'Oman'}, {'isocode': 'PK', 'country': 'Pakistan'}, {'isocode': 'IL', 'country': 'Israel'}, {'isocode': 'JO', 'country': 'Jordan'}, {'isocode': 'KZ', 'country': 'Kazakhstan'}, {'isocode': 'KW', 'country': 'Kuwait'}, {'isocode': 'KG', 'country': 'Kyrgyzstan'}, {'isocode': 'VN', 'country': 'Viet Nam'}, {'isocode': 'MV', 'country': 'Maldives'}, {'isocode': 'PH', 'country': 'Philippines'}, {'isocode': 'BD', 'country': 'Bangladesh'}, {'isocode': 'BT', 'country': 'Bhutan'}, {'isocode': 'BN', 'country': 'Brunei Darussalam'}, {'isocode': 'KH', 'country': 'Cambodia'}, {'isocode': 'TL', 'country': 'Timor-Leste'}, {'isocode': 'SG', 'country': 'Singapore'}, {'isocode': 'LK', 'country': 'Sri Lanka'}, {'isocode': 'TH', 'country': 'Thailand'}, {'isocode': 'NP', 'country': 'Nepal'}, {'isocode': 'LA', 'country': \"Lao People's Democratic Republic\"}, {'isocode': 'YE', 'country': 'Yemen'}, {'isocode': 'GE', 'country': 'Georgia'}, {'isocode': 'TR', 'country': 'Turkey'}, {'isocode': 'AM', 'country': 'Armenia'}, {'isocode': 'AZ', 'country': 'Azerbaijan'}, {'isocode': 'DT', 'country': 'Disputed Territory'}, {'isocode': 'MY', 'country': 'Malaysia'}, {'isocode': 'IO', 'country': 'British Indian Ocean Territory'}, {'isocode': 'IN', 'country': 'India'}, {'isocode': 'ID', 'country': 'Indonesia'}, {'isocode': 'MM', 'country': 'Myanmar'}, {'isocode': 'VU', 'country': 'Vanuatu'}, {'isocode': 'WF', 'country': 'Wallis and Futuna'}, {'isocode': 'GU', 'country': 'Guam'}, {'isocode': 'MH', 'country': 'Marshall Islands'}, {'isocode': 'PN', 'country': 'Pitcairn'}, {'isocode': 'WS', 'country': 'Samoa'}, {'isocode': 'CX', 'country': 'Christmas Island'}, {'isocode': 'CC', 'country': 'Cocos (Keeling) Islands'}, {'isocode': 'FJ', 'country': 'Fiji'}, {'isocode': 'TK', 'country': 'Tokelau'}, {'isocode': 'TO', 'country': 'Tonga'}, {'isocode': 'TV', 'country': 'Tuvalu'}, {'isocode': 'NR', 'country': 'Nauru'}, {'isocode': 'NC', 'country': 'New Caledonia'}, {'isocode': 'NU', 'country': 'Niue'}, {'isocode': 'NF', 'country': 'Norfolk Island'}, {'isocode': 'MP', 'country': 'Northern Mariana Islands'}, {'isocode': 'PW', 'country': 'Palau'}, {'isocode': 'VA', 'country': 'Holy See (Vatican City State)'}, {'isocode': 'MT', 'country': 'Malta'}, {'isocode': 'MC', 'country': 'Monaco'}, {'isocode': 'PL', 'country': 'Poland'}, {'isocode': 'RO', 'country': 'Romania'}, {'isocode': 'SM', 'country': 'San Marino'}, {'isocode': 'AL', 'country': 'Albania'}, {'isocode': 'LV', 'country': 'Latvia'}, {'isocode': 'LI', 'country': 'Liechtenstein'}, {'isocode': 'LT', 'country': 'Lithuania'}, {'isocode': 'LU', 'country': 'Luxembourg'}, {'isocode': 'BE', 'country': 'Belgium'}, {'isocode': 'BA', 'country': 'Bosnia and Herzegovina'}, {'isocode': 'BG', 'country': 'Bulgaria'}, {'isocode': 'HR', 'country': 'Croatia'}, {'isocode': 'DK', 'country': 'Denmark'}, {'isocode': 'EE', 'country': 'Estonia'}, {'isocode': 'FO', 'country': 'Faroe Islands'}, {'isocode': 'FI', 'country': 'Finland'}, {'isocode': 'GG', 'country': 'Guernsey'}, {'isocode': 'IM', 'country': 'Isle of Man'}, {'isocode': 'JE', 'country': 'Jersey'}, {'isocode': 'DE', 'country': 'Germany'}, {'isocode': 'GI', 'country': 'Gibraltar'}, {'isocode': 'GL', 'country': 'Greenland'}, {'isocode': 'SK', 'country': 'Slovakia'}, {'isocode': 'SI', 'country': 'Slovenia'}, {'isocode': 'SJ', 'country': 'Svalbard and Jan Mayen'}, {'isocode': 'SE', 'country': 'Sweden'}, {'isocode': 'CH', 'country': 'Switzerland'}, {'isocode': 'AD', 'country': 'Andorra'}, {'isocode': 'AT', 'country': 'Austria'}, {'isocode': 'HU', 'country': 'Hungary'}, {'isocode': 'IS', 'country': 'Iceland'}, {'isocode': 'NL', 'country': 'Netherlands'}, {'isocode': 'NO', 'country': 'Norway'}, {'isocode': 'IE', 'country': 'Ireland'}, {'isocode': 'AX', 'country': 'Åland Islands'}, {'isocode': 'ME', 'country': 'Montenegro'}, {'isocode': 'GY', 'country': 'Guyana'}, {'isocode': 'FK', 'country': 'Falkland Islands (Malvinas)'}, {'isocode': 'GF', 'country': 'French Guiana'}, {'isocode': 'SR', 'country': 'Suriname'}, {'isocode': 'UY', 'country': 'Uruguay'}, {'isocode': 'PY', 'country': 'Paraguay'}, {'isocode': 'PE', 'country': 'Peru'}, {'isocode': 'VG', 'country': 'Virgin Islands, British'}, {'isocode': 'VI', 'country': 'Virgin Islands, U.S.'}, {'isocode': 'GP', 'country': 'Guadeloupe'}, {'isocode': 'HT', 'country': 'Haiti'}, {'isocode': 'MQ', 'country': 'Martinique'}, {'isocode': 'MS', 'country': 'Montserrat'}, {'isocode': 'KN', 'country': 'Saint Kitts and Nevis'}, {'isocode': 'LC', 'country': 'Saint Lucia'}, {'isocode': 'VC', 'country': 'Saint Vincent and the Grenadines'}, {'isocode': 'BB', 'country': 'Barbados'}, {'isocode': 'BM', 'country': 'Bermuda'}, {'isocode': 'KY', 'country': 'Cayman Islands'}, {'isocode': 'CU', 'country': 'Cuba'}, {'isocode': 'DM', 'country': 'Dominica'}, {'isocode': 'DO', 'country': 'Dominican Republic'}, {'isocode': 'GD', 'country': 'Grenada'}, {'isocode': 'TT', 'country': 'Trinidad and Tobago'}, {'isocode': 'TC', 'country': 'Turks and Caicos Islands'}, {'isocode': 'AI', 'country': 'Anguilla'}, {'isocode': 'AG', 'country': 'Antigua and Barbuda'}, {'isocode': 'AW', 'country': 'Aruba'}, {'isocode': 'BS', 'country': 'Bahamas'}, {'isocode': 'JM', 'country': 'Jamaica'}, {'isocode': 'EH', 'country': 'Western Sahara'}, {'isocode': 'DZ', 'country': 'Algeria'}, {'isocode': 'TN', 'country': 'Tunisia'}, {'isocode': 'MA', 'country': 'Morocco'}, {'isocode': 'ZM', 'country': 'Zambia'}, {'isocode': 'ZW', 'country': 'Zimbabwe'}, {'isocode': 'GN', 'country': 'Guinea'}, {'isocode': 'LY', 'country': 'Libya'}, {'isocode': 'GW', 'country': 'Guinea-Bissau'}, {'isocode': 'ML', 'country': 'Mali'}, {'isocode': 'MR', 'country': 'Mauritania'}, {'isocode': 'YT', 'country': 'Mayotte'}, {'isocode': 'RW', 'country': 'Rwanda'}, {'isocode': 'RE', 'country': 'Réunion'}, {'isocode': 'SN', 'country': 'Senegal'}, {'isocode': 'SL', 'country': 'Sierra Leone'}, {'isocode': 'LS', 'country': 'Lesotho'}, {'isocode': 'LR', 'country': 'Liberia'}, {'isocode': 'MG', 'country': 'Madagascar'}, {'isocode': 'MW', 'country': 'Malawi'}, {'isocode': 'BJ', 'country': 'Benin'}, {'isocode': 'BW', 'country': 'Botswana'}, {'isocode': 'BF', 'country': 'Burkina Faso'}, {'isocode': 'BI', 'country': 'Burundi'}, {'isocode': 'CM', 'country': 'Cameroon'}, {'isocode': 'CF', 'country': 'Central African Republic'}, {'isocode': 'TD', 'country': 'Chad'}, {'isocode': 'KM', 'country': 'Comoros'}, {'isocode': 'CG', 'country': 'Congo'}, {'isocode': 'CD', 'country': 'Congo, The Democratic Republic of the'}, {'isocode': 'CI', 'country': \"Côte d'Ivoire\"}, {'isocode': 'DJ', 'country': 'Djibouti'}, {'isocode': 'ER', 'country': 'Eritrea'}, {'isocode': 'ET', 'country': 'Ethiopia'}, {'isocode': 'GA', 'country': 'Gabon'}, {'isocode': 'GM', 'country': 'Gambia'}, {'isocode': 'GH', 'country': 'Ghana'}, {'isocode': 'SO', 'country': 'Somalia'}, {'isocode': 'SD', 'country': 'Sudan'}, {'isocode': 'TZ', 'country': 'Tanzania, United Republic of'}, {'isocode': 'TG', 'country': 'Togo'}, {'isocode': 'UG', 'country': 'Uganda'}, {'isocode': 'MZ', 'country': 'Mozambique'}, {'isocode': 'NE', 'country': 'Niger'}, {'isocode': 'NG', 'country': 'Nigeria'}, {'isocode': 'KE', 'country': 'Kenya'}, {'isocode': 'GT', 'country': 'Guatemala'}, {'isocode': 'BZ', 'country': 'Belize'}, {'isocode': 'SV', 'country': 'El Salvador'}, {'isocode': 'PA', 'country': 'Panama'}, {'isocode': 'HM', 'country': 'Heard Island and McDonald Islands'}, {'isocode': 'BV', 'country': 'Bouvet Island'}, {'isocode': 'AQ', 'country': 'Antarctica'}, {'isocode': 'BY', 'country': 'Belarus'}, {'isocode': 'MN', 'country': 'Mongolia'}, {'isocode': 'MO', 'country': 'Macao'}, {'isocode': 'HK', 'country': 'Hong Kong'}, {'isocode': 'KP', 'country': \"Korea, Democratic People's Republic of\"}, {'isocode': 'KR', 'country': 'Korea, Republic of'}, {'isocode': 'PM', 'country': 'Saint Pierre and Miquelon'}, {'isocode': 'MF', 'country': 'Saint Martin (French part)'}, {'isocode': 'BL', 'country': 'Saint Barthélemy'}, {'isocode': 'AS', 'country': 'American Samoa'}, {'isocode': 'CK', 'country': 'Cook Islands'}, {'isocode': 'PF', 'country': 'French Polynesia'}, {'isocode': 'SB', 'country': 'Solomon Islands'}, {'isocode': 'UM', 'country': 'United States Minor Outlying Islands'}, {'isocode': 'AU', 'country': 'Australia'}, {'isocode': 'NZ', 'country': 'New Zealand'}, {'isocode': 'PG', 'country': 'Papua New Guinea'}, {'isocode': 'KI', 'country': 'Kiribati'}, {'isocode': 'PT', 'country': 'Portugal'}, {'isocode': 'FR', 'country': 'France'}, {'isocode': 'GR', 'country': 'Greece'}, {'isocode': 'ES', 'country': 'Spain'}, {'isocode': 'IT', 'country': 'Italy'}, {'isocode': 'RS', 'country': 'Serbia'}, {'isocode': 'BR', 'country': 'Brazil'}, {'isocode': 'CL', 'country': 'Chile'}, {'isocode': 'CO', 'country': 'Colombia'}, {'isocode': 'EC', 'country': 'Ecuador'}, {'isocode': 'AR', 'country': 'Argentina'}, {'isocode': 'PR', 'country': 'Puerto Rico'}, {'isocode': 'AN', 'country': 'Netherlands Antilles'}, {'isocode': 'EG', 'country': 'Egypt'}, {'isocode': 'MU', 'country': 'Mauritius'}, {'isocode': 'SC', 'country': 'Seychelles'}, {'isocode': 'GQ', 'country': 'Equatorial Guinea'}, {'isocode': 'ZA', 'country': 'South Africa'}, {'isocode': 'AO', 'country': 'Angola'}, {'isocode': 'NA', 'country': 'Namibia'}, {'isocode': 'MX', 'country': 'Mexico'}, {'isocode': 'CR', 'country': 'Costa Rica'}, {'isocode': 'HN', 'country': 'Honduras'}, {'isocode': 'NI', 'country': 'Nicaragua'}, {'isocode': 'GS', 'country': 'South Georgia and the South Sandwich Islands'}, {'isocode': 'RU', 'country': 'Russian Federation'}, {'isocode': 'UA', 'country': 'Ukraine'}, {'isocode': 'CN', 'country': 'China'}, {'isocode': 'TW', 'country': 'Taiwan, Province of China'}, {'isocode': 'JP', 'country': 'Japan'}, {'isocode': 'CA', 'country': 'Canada'}, {'isocode': 'SH', 'country': 'Saint Helena, Ascension and Tristan da Cunha'}, {'isocode': 'CW', 'country': 'Curaçao'}, {'isocode': 'SX', 'country': 'Sint Maarten (Dutch part)'}, {'isocode': 'BQ', 'country': 'Bonaire, Sint Eustatius and Saba'}, {'isocode': 'SS', 'country': 'South Sudan'}, {'isocode': 'TF', 'country': 'French Southern Territories'}, {'isocode': 'FM', 'country': 'Micronesia, Federated States of '}, {'isocode': 'VE', 'country': 'Venezuela, Bolivarian Republic of'}, {'isocode': 'PS', 'country': 'Palestine, State of'}, {'isocode': 'CZ', 'country': 'Czechia'}, {'isocode': 'CV', 'country': 'Cabo Verde'}, {'isocode': 'SZ', 'country': 'Eswatini'}, {'isocode': 'ST', 'country': 'Sao Tome and Principe'}, {'isocode': 'MK', 'country': 'North Macedonia'}, {'isocode': 'BO', 'country': 'Bolivia, Plurinational State of'}, {'isocode': 'MD', 'country': 'Moldova, Republic of'}, {'isocode': 'GB', 'country': 'United Kingdom of Great Britain and Northern Ireland'}, {'isocode': 'US', 'country': 'United States of America'}]\n"
          ]
        }
      ],
      "source": [
        "request = requests.get(\"https://apiv3.iucnredlist.org/api/v3/country/list?token=\" + TOKEN)\n",
        "countries = request.json()\n",
        "countries = countries['results']\n",
        "print(countries)"
      ]
    },
    {
      "cell_type": "code",
      "execution_count": null,
      "metadata": {
        "colab": {
          "background_save": true
        },
        "id": "wnDIKGF6na0Z",
        "outputId": "8765788f-600f-4161-8c77-b8f5efb18184"
      },
      "outputs": [
        {
          "name": "stdout",
          "output_type": "stream",
          "text": [
            "[945, 932, 2554, 1288, 1540, 940, 1289, 1653, 854, 991, 1554, 2843, 1566, 2382, 2947, 2719, 1976, 1429, 1059, 835, 7209, 1775, 7888, 2913, 1729, 2938, 3745, 1900, 3392, 4239, 7684, 2505, 3159, 3319, 1254, 3034, 1015, 1162, 1184, 10119, 1366, 9509, 14648, 6072, 2528, 1586, 1701, 1735, 689, 1861, 1186, 1008, 2994, 1117, 1913, 1435, 1358, 4687, 1155, 832, 1743, 2601, 44, 1102, 546, 1709, 1952, 113, 1996, 1038, 759, 982, 920, 1611, 1718, 2027, 2444, 1536, 1016, 624, 1305, 310, 203, 324, 2340, 835, 556, 1544, 2152, 245, 1686, 1890, 542, 2080, 1608, 841, 1645, 1622, 1634, 40, 1904, 4710, 446, 4077, 4101, 1706, 2151, 9311, 1824, 1874, 1945, 2693, 1806, 1608, 1649, 1817, 1847, 1752, 1431, 1694, 3356, 1907, 2681, 1769, 2987, 1572, 1533, 1784, 1413, 2478, 2657, 1248, 1990, 1623, 2766, 3902, 3439, 4055, 1256, 2579, 1953, 2151, 1672, 2281, 1926, 3362, 3596, 852, 3408, 9151, 3395, 3236, 2238, 1712, 2311, 6588, 2973, 1692, 2004, 3982, 7731, 4225, 2067, 2467, 3170, 4655, 2477, 4215, 3765, 3534, 9243, 3106, 4148, 6424, 1395, 5183, 6848, 5554, 3637, 2941, 7158, 176, 124, 257, 917, 958, 529, 1707, 1409, 2180, 618, 1437, 1095, 1660, 1369, 2072, 3520, 1540, 12768, 2178, 8806, 1693, 3797, 4277, 3566, 5308, 4055, 1714, 15721, 2337, 12931, 10501, 4150, 2561, 0, 2849, 2463, 2740, 3097, 7840, 5135, 3373, 12054, 6967, 5487, 5292, 293, 3639, 1858, 10539, 4931, 6132, 3795, 1035, 1516, 1357, 1726, 2118, 1154, 2353, 9114, 770, 1667, 1370, 1957, 1319, 1478, 5842, 775, 2335, 12318]\n"
          ]
        }
      ],
      "source": [
        "#numSpecies stores num of species per country.\n",
        "\n",
        "numSpecies = []\n",
        "\n",
        "for country in countries:\n",
        "  code = country[\"isocode\"]\n",
        "  species = requests.get(\"https://apiv3.iucnredlist.org/api/v3/country/getspecies/\" + code + \"?token=\" + TOKEN)\n",
        "  species = species.json()\n",
        "  numSpecies.append(species[\"count\"])\n",
        "\n",
        "print(numSpecies)\n",
        "  \n",
        "\n",
        " "
      ]
    },
    {
      "cell_type": "code",
      "execution_count": null,
      "metadata": {
        "colab": {
          "background_save": true
        },
        "id": "DB2vJZpJ2KN1",
        "outputId": "810bea3f-bdd2-472a-f72b-a368e96022c6"
      },
      "outputs": [
        {
          "data": {
            "text/html": [
              "\n",
              "  <div id=\"df-dfa53290-e638-4154-b842-87cd9f987b0c\">\n",
              "    <div class=\"colab-df-container\">\n",
              "      <div>\n",
              "<style scoped>\n",
              "    .dataframe tbody tr th:only-of-type {\n",
              "        vertical-align: middle;\n",
              "    }\n",
              "\n",
              "    .dataframe tbody tr th {\n",
              "        vertical-align: top;\n",
              "    }\n",
              "\n",
              "    .dataframe thead th {\n",
              "        text-align: right;\n",
              "    }\n",
              "</style>\n",
              "<table border=\"1\" class=\"dataframe\">\n",
              "  <thead>\n",
              "    <tr style=\"text-align: right;\">\n",
              "      <th></th>\n",
              "      <th>Count</th>\n",
              "    </tr>\n",
              "  </thead>\n",
              "  <tbody>\n",
              "    <tr>\n",
              "      <th>count</th>\n",
              "      <td>251.000000</td>\n",
              "    </tr>\n",
              "    <tr>\n",
              "      <th>mean</th>\n",
              "      <td>2876.924303</td>\n",
              "    </tr>\n",
              "    <tr>\n",
              "      <th>std</th>\n",
              "      <td>2656.130156</td>\n",
              "    </tr>\n",
              "    <tr>\n",
              "      <th>min</th>\n",
              "      <td>0.000000</td>\n",
              "    </tr>\n",
              "    <tr>\n",
              "      <th>25%</th>\n",
              "      <td>1382.500000</td>\n",
              "    </tr>\n",
              "    <tr>\n",
              "      <th>50%</th>\n",
              "      <td>1945.000000</td>\n",
              "    </tr>\n",
              "    <tr>\n",
              "      <th>75%</th>\n",
              "      <td>3393.500000</td>\n",
              "    </tr>\n",
              "    <tr>\n",
              "      <th>max</th>\n",
              "      <td>15721.000000</td>\n",
              "    </tr>\n",
              "  </tbody>\n",
              "</table>\n",
              "</div>\n",
              "      <button class=\"colab-df-convert\" onclick=\"convertToInteractive('df-dfa53290-e638-4154-b842-87cd9f987b0c')\"\n",
              "              title=\"Convert this dataframe to an interactive table.\"\n",
              "              style=\"display:none;\">\n",
              "        \n",
              "  <svg xmlns=\"http://www.w3.org/2000/svg\" height=\"24px\"viewBox=\"0 0 24 24\"\n",
              "       width=\"24px\">\n",
              "    <path d=\"M0 0h24v24H0V0z\" fill=\"none\"/>\n",
              "    <path d=\"M18.56 5.44l.94 2.06.94-2.06 2.06-.94-2.06-.94-.94-2.06-.94 2.06-2.06.94zm-11 1L8.5 8.5l.94-2.06 2.06-.94-2.06-.94L8.5 2.5l-.94 2.06-2.06.94zm10 10l.94 2.06.94-2.06 2.06-.94-2.06-.94-.94-2.06-.94 2.06-2.06.94z\"/><path d=\"M17.41 7.96l-1.37-1.37c-.4-.4-.92-.59-1.43-.59-.52 0-1.04.2-1.43.59L10.3 9.45l-7.72 7.72c-.78.78-.78 2.05 0 2.83L4 21.41c.39.39.9.59 1.41.59.51 0 1.02-.2 1.41-.59l7.78-7.78 2.81-2.81c.8-.78.8-2.07 0-2.86zM5.41 20L4 18.59l7.72-7.72 1.47 1.35L5.41 20z\"/>\n",
              "  </svg>\n",
              "      </button>\n",
              "      \n",
              "  <style>\n",
              "    .colab-df-container {\n",
              "      display:flex;\n",
              "      flex-wrap:wrap;\n",
              "      gap: 12px;\n",
              "    }\n",
              "\n",
              "    .colab-df-convert {\n",
              "      background-color: #E8F0FE;\n",
              "      border: none;\n",
              "      border-radius: 50%;\n",
              "      cursor: pointer;\n",
              "      display: none;\n",
              "      fill: #1967D2;\n",
              "      height: 32px;\n",
              "      padding: 0 0 0 0;\n",
              "      width: 32px;\n",
              "    }\n",
              "\n",
              "    .colab-df-convert:hover {\n",
              "      background-color: #E2EBFA;\n",
              "      box-shadow: 0px 1px 2px rgba(60, 64, 67, 0.3), 0px 1px 3px 1px rgba(60, 64, 67, 0.15);\n",
              "      fill: #174EA6;\n",
              "    }\n",
              "\n",
              "    [theme=dark] .colab-df-convert {\n",
              "      background-color: #3B4455;\n",
              "      fill: #D2E3FC;\n",
              "    }\n",
              "\n",
              "    [theme=dark] .colab-df-convert:hover {\n",
              "      background-color: #434B5C;\n",
              "      box-shadow: 0px 1px 3px 1px rgba(0, 0, 0, 0.15);\n",
              "      filter: drop-shadow(0px 1px 2px rgba(0, 0, 0, 0.3));\n",
              "      fill: #FFFFFF;\n",
              "    }\n",
              "  </style>\n",
              "\n",
              "      <script>\n",
              "        const buttonEl =\n",
              "          document.querySelector('#df-dfa53290-e638-4154-b842-87cd9f987b0c button.colab-df-convert');\n",
              "        buttonEl.style.display =\n",
              "          google.colab.kernel.accessAllowed ? 'block' : 'none';\n",
              "\n",
              "        async function convertToInteractive(key) {\n",
              "          const element = document.querySelector('#df-dfa53290-e638-4154-b842-87cd9f987b0c');\n",
              "          const dataTable =\n",
              "            await google.colab.kernel.invokeFunction('convertToInteractive',\n",
              "                                                     [key], {});\n",
              "          if (!dataTable) return;\n",
              "\n",
              "          const docLinkHtml = 'Like what you see? Visit the ' +\n",
              "            '<a target=\"_blank\" href=https://colab.research.google.com/notebooks/data_table.ipynb>data table notebook</a>'\n",
              "            + ' to learn more about interactive tables.';\n",
              "          element.innerHTML = '';\n",
              "          dataTable['output_type'] = 'display_data';\n",
              "          await google.colab.output.renderOutput(dataTable, element);\n",
              "          const docLink = document.createElement('div');\n",
              "          docLink.innerHTML = docLinkHtml;\n",
              "          element.appendChild(docLink);\n",
              "        }\n",
              "      </script>\n",
              "    </div>\n",
              "  </div>\n",
              "  "
            ],
            "text/plain": [
              "              Count\n",
              "count    251.000000\n",
              "mean    2876.924303\n",
              "std     2656.130156\n",
              "min        0.000000\n",
              "25%     1382.500000\n",
              "50%     1945.000000\n",
              "75%     3393.500000\n",
              "max    15721.000000"
            ]
          },
          "execution_count": 5,
          "metadata": {},
          "output_type": "execute_result"
        },
        {
          "data": {
            "image/png": "[encoded data removed]",
            "text/plain": [
              "<Figure size 432x288 with 1 Axes>"
            ]
          },
          "metadata": {},
          "output_type": "display_data"
        }
      ],
      "source": [
        "#Tried to assign a variable for the histogram, but the summary statistics don't work.\n",
        "\n",
        "\n",
        "sns.histplot(numSpecies, bins=45, kde=True)\n",
        "\n",
        "plt.xlabel(\"Number of Species\")\n",
        "plt.ylabel(\"Number of Countries\")\n",
        "\n",
        "df = pd.DataFrame()\n",
        "\n",
        "df['Count'] = numSpecies\n",
        "\n",
        "df.describe()\n",
        "\n",
        "#Summary Statistics in Module 3 (pandas). Explain relationship on this graph.\n",
        "#25% is below 1382.\n",
        "#75% is below 3393."
      ]
    },
    {
      "cell_type": "code",
      "execution_count": null,
      "metadata": {
        "colab": {
          "background_save": true
        },
        "id": "JFmDcAcT4FNW"
      },
      "outputs": [],
      "source": []
    },
    {
      "cell_type": "markdown",
      "metadata": {
        "id": "K6gFIilTnf3Q"
      },
      "source": [
        "Student Analysis: "
      ]
    },
    {
      "cell_type": "markdown",
      "metadata": {
        "id": "S5eeDyXPqKwd"
      },
      "source": [
        "<h3>Part 2:</h3>\n",
        "\n",
        "Now investigate the counts of categories amongst endangered species. Vizualize this as a `lineplot`! Plot the category codes on the x-axis, and the counts on the y-axis. Even though the categories are discrete categorical variables, we'll use a `lineplot` since there is a progression in severity that we want to capture (Least Concern -> Extinct). \n",
        "\n",
        "Possible categories and respective descriptions are found in the dictionary below."
      ]
    },
    {
      "cell_type": "code",
      "execution_count": null,
      "metadata": {
        "colab": {
          "background_save": true
        },
        "id": "Mmcq7JaSquub"
      },
      "outputs": [],
      "source": [
        "# starter Code\n",
        "categories = {\"LC\":\"Least Concern\", \"NT\":\"Near Threatened\", \"VU\":\"Vulnerable\", \"EN\":\"Endangered\", \"CR\":\"Critically Endangered\",\n",
        "              \"EW\":\"Extinct in the Wild\", \"EX\":\"Extinct\"}\n",
        "categoriesNum = {\"LC\":1, \"NT\":2, \"VU\":3, \"EN\":4, \"CR\":5,\"EW\":6, \"EX\":7}\n"
      ]
    },
    {
      "cell_type": "code",
      "execution_count": null,
      "metadata": {
        "colab": {
          "background_save": true
        },
        "id": "E-PZUK9xvQA6",
        "outputId": "c0f13eb8-6145-4ed9-d7e5-27f66b999509"
      },
      "outputs": [
        {
          "name": "stdout",
          "output_type": "stream",
          "text": [
            "[76155, 8251, 17033, 16687, 9496, 89, 936]\n"
          ]
        }
      ],
      "source": [
        "counts = []\n",
        "\n",
        "for category in categoriesNum:\n",
        "  req = requests.get('https://apiv3.iucnredlist.org/api/v3/species/category/' + category + '?token='+ TOKEN)\n",
        "  cats = req.json()\n",
        "  counts.append(cats['count'])\n",
        "  \n",
        "print(counts)"
      ]
    },
    {
      "cell_type": "code",
      "execution_count": null,
      "metadata": {
        "colab": {
          "background_save": true
        },
        "id": "fwnpwaeM3os9",
        "outputId": "f9b797ee-79eb-454e-e021-8dec4f682bb3"
      },
      "outputs": [
        {
          "data": {
            "text/html": [
              "\n",
              "  <div id=\"df-083366e5-daa5-4120-8e1e-96e613bbffb1\">\n",
              "    <div class=\"colab-df-container\">\n",
              "      <div>\n",
              "<style scoped>\n",
              "    .dataframe tbody tr th:only-of-type {\n",
              "        vertical-align: middle;\n",
              "    }\n",
              "\n",
              "    .dataframe tbody tr th {\n",
              "        vertical-align: top;\n",
              "    }\n",
              "\n",
              "    .dataframe thead th {\n",
              "        text-align: right;\n",
              "    }\n",
              "</style>\n",
              "<table border=\"1\" class=\"dataframe\">\n",
              "  <thead>\n",
              "    <tr style=\"text-align: right;\">\n",
              "      <th></th>\n",
              "      <th>Type</th>\n",
              "      <th>Code</th>\n",
              "      <th>Count</th>\n",
              "    </tr>\n",
              "  </thead>\n",
              "  <tbody>\n",
              "    <tr>\n",
              "      <th>0</th>\n",
              "      <td>Least Concern</td>\n",
              "      <td>1</td>\n",
              "      <td>76155</td>\n",
              "    </tr>\n",
              "    <tr>\n",
              "      <th>1</th>\n",
              "      <td>Near Threatened</td>\n",
              "      <td>2</td>\n",
              "      <td>8251</td>\n",
              "    </tr>\n",
              "    <tr>\n",
              "      <th>2</th>\n",
              "      <td>Vulnerable</td>\n",
              "      <td>3</td>\n",
              "      <td>17033</td>\n",
              "    </tr>\n",
              "    <tr>\n",
              "      <th>3</th>\n",
              "      <td>Endangered</td>\n",
              "      <td>4</td>\n",
              "      <td>16687</td>\n",
              "    </tr>\n",
              "    <tr>\n",
              "      <th>4</th>\n",
              "      <td>Critically Endangered</td>\n",
              "      <td>5</td>\n",
              "      <td>9496</td>\n",
              "    </tr>\n",
              "    <tr>\n",
              "      <th>5</th>\n",
              "      <td>Extinct in the Wild</td>\n",
              "      <td>6</td>\n",
              "      <td>89</td>\n",
              "    </tr>\n",
              "    <tr>\n",
              "      <th>6</th>\n",
              "      <td>Extinct</td>\n",
              "      <td>7</td>\n",
              "      <td>936</td>\n",
              "    </tr>\n",
              "  </tbody>\n",
              "</table>\n",
              "</div>\n",
              "      <button class=\"colab-df-convert\" onclick=\"convertToInteractive('df-083366e5-daa5-4120-8e1e-96e613bbffb1')\"\n",
              "              title=\"Convert this dataframe to an interactive table.\"\n",
              "              style=\"display:none;\">\n",
              "        \n",
              "  <svg xmlns=\"http://www.w3.org/2000/svg\" height=\"24px\"viewBox=\"0 0 24 24\"\n",
              "       width=\"24px\">\n",
              "    <path d=\"M0 0h24v24H0V0z\" fill=\"none\"/>\n",
              "    <path d=\"M18.56 5.44l.94 2.06.94-2.06 2.06-.94-2.06-.94-.94-2.06-.94 2.06-2.06.94zm-11 1L8.5 8.5l.94-2.06 2.06-.94-2.06-.94L8.5 2.5l-.94 2.06-2.06.94zm10 10l.94 2.06.94-2.06 2.06-.94-2.06-.94-.94-2.06-.94 2.06-2.06.94z\"/><path d=\"M17.41 7.96l-1.37-1.37c-.4-.4-.92-.59-1.43-.59-.52 0-1.04.2-1.43.59L10.3 9.45l-7.72 7.72c-.78.78-.78 2.05 0 2.83L4 21.41c.39.39.9.59 1.41.59.51 0 1.02-.2 1.41-.59l7.78-7.78 2.81-2.81c.8-.78.8-2.07 0-2.86zM5.41 20L4 18.59l7.72-7.72 1.47 1.35L5.41 20z\"/>\n",
              "  </svg>\n",
              "      </button>\n",
              "      \n",
              "  <style>\n",
              "    .colab-df-container {\n",
              "      display:flex;\n",
              "      flex-wrap:wrap;\n",
              "      gap: 12px;\n",
              "    }\n",
              "\n",
              "    .colab-df-convert {\n",
              "      background-color: #E8F0FE;\n",
              "      border: none;\n",
              "      border-radius: 50%;\n",
              "      cursor: pointer;\n",
              "      display: none;\n",
              "      fill: #1967D2;\n",
              "      height: 32px;\n",
              "      padding: 0 0 0 0;\n",
              "      width: 32px;\n",
              "    }\n",
              "\n",
              "    .colab-df-convert:hover {\n",
              "      background-color: #E2EBFA;\n",
              "      box-shadow: 0px 1px 2px rgba(60, 64, 67, 0.3), 0px 1px 3px 1px rgba(60, 64, 67, 0.15);\n",
              "      fill: #174EA6;\n",
              "    }\n",
              "\n",
              "    [theme=dark] .colab-df-convert {\n",
              "      background-color: #3B4455;\n",
              "      fill: #D2E3FC;\n",
              "    }\n",
              "\n",
              "    [theme=dark] .colab-df-convert:hover {\n",
              "      background-color: #434B5C;\n",
              "      box-shadow: 0px 1px 3px 1px rgba(0, 0, 0, 0.15);\n",
              "      filter: drop-shadow(0px 1px 2px rgba(0, 0, 0, 0.3));\n",
              "      fill: #FFFFFF;\n",
              "    }\n",
              "  </style>\n",
              "\n",
              "      <script>\n",
              "        const buttonEl =\n",
              "          document.querySelector('#df-083366e5-daa5-4120-8e1e-96e613bbffb1 button.colab-df-convert');\n",
              "        buttonEl.style.display =\n",
              "          google.colab.kernel.accessAllowed ? 'block' : 'none';\n",
              "\n",
              "        async function convertToInteractive(key) {\n",
              "          const element = document.querySelector('#df-083366e5-daa5-4120-8e1e-96e613bbffb1');\n",
              "          const dataTable =\n",
              "            await google.colab.kernel.invokeFunction('convertToInteractive',\n",
              "                                                     [key], {});\n",
              "          if (!dataTable) return;\n",
              "\n",
              "          const docLinkHtml = 'Like what you see? Visit the ' +\n",
              "            '<a target=\"_blank\" href=https://colab.research.google.com/notebooks/data_table.ipynb>data table notebook</a>'\n",
              "            + ' to learn more about interactive tables.';\n",
              "          element.innerHTML = '';\n",
              "          dataTable['output_type'] = 'display_data';\n",
              "          await google.colab.output.renderOutput(dataTable, element);\n",
              "          const docLink = document.createElement('div');\n",
              "          docLink.innerHTML = docLinkHtml;\n",
              "          element.appendChild(docLink);\n",
              "        }\n",
              "      </script>\n",
              "    </div>\n",
              "  </div>\n",
              "  "
            ],
            "text/plain": [
              "                    Type  Code  Count\n",
              "0          Least Concern     1  76155\n",
              "1        Near Threatened     2   8251\n",
              "2             Vulnerable     3  17033\n",
              "3             Endangered     4  16687\n",
              "4  Critically Endangered     5   9496\n",
              "5    Extinct in the Wild     6     89\n",
              "6                Extinct     7    936"
            ]
          },
          "metadata": {},
          "output_type": "display_data"
        }
      ],
      "source": [
        "severity = pd.DataFrame()\n",
        "severity['Type'] = categories.values()\n",
        "severity['Code'] = categoriesNum.values()\n",
        "severity['Count'] = counts\n",
        "\n",
        "display(severity)"
      ]
    },
    {
      "cell_type": "code",
      "execution_count": null,
      "metadata": {
        "colab": {
          "background_save": true
        },
        "id": "oAYJ8MPb5N1b",
        "outputId": "01e98dd9-6259-4087-a724-9f6cdb92005c"
      },
      "outputs": [
        {
          "data": {
            "text/plain": [
              "Text(0, 0.5, 'Species Count')"
            ]
          },
          "execution_count": 9,
          "metadata": {},
          "output_type": "execute_result"
        },
        {
          "data": {
            "image/png": "[encoded data removed]",
            "text/plain": [
              "<Figure size 432x288 with 1 Axes>"
            ]
          },
          "metadata": {},
          "output_type": "display_data"
        }
      ],
      "source": [
        "sns.lineplot(x = 'Code', y = 'Count', data = severity)\n",
        "plt.xlabel('Code of Severity')\n",
        "plt.ylabel('Species Count')"
      ]
    }
  ],
  "metadata": {
    "colab": {
      "collapsed_sections": [],
      "provenance": [],
      "include_colab_link": true
    },
    "kernelspec": {
      "display_name": "Python 3",
      "name": "python3"
    }
  },
  "nbformat": 4,
  "nbformat_minor": 0
}